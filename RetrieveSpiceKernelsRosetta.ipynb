{
 "cells": [
  {
   "cell_type": "code",
   "execution_count": 5,
   "metadata": {},
   "outputs": [],
   "source": [
    "import os \n",
    "import re\n",
    "repository = \"ftp://ssols01.esac.esa.int/pub/data/SPICE/ROSETTA/kernels/\"\n",
    "metakernel = repository + \"mk/ROS_V111.TM\"\n",
    "outdir =  \"./cgkernels/\"\n",
    "\n",
    "\n",
    "sep  = os.path.sep\n",
    "\n",
    "def ensureDir(dir):\n",
    "    if not os.path.exists(dir):\n",
    "        os.makedirs(dir)\n",
    "        \n",
    "ensureDir(outdir)"
   ]
  },
  {
   "cell_type": "code",
   "execution_count": 6,
   "metadata": {},
   "outputs": [
    {
     "data": {
      "text/plain": [
       "'226 File send OK.'"
      ]
     },
     "execution_count": 6,
     "metadata": {},
     "output_type": "execute_result"
    }
   ],
   "source": [
    "import urllib \n",
    "import os\n",
    "\n",
    "metakernelfile =   outdir + sep + \"mk\" + sep + 'ROS_V111.TM'\n",
    "ensureDir( outdir + sep + \"mk\" )\n",
    "\n",
    "\n",
    "from ftplib import FTP\n",
    "ftp = FTP('ssols01.esac.esa.int')     # connect to host, default port\n",
    "\n",
    "ftp.login()   \n",
    "\n",
    "ftp.cwd(\"/pub/data/SPICE/ROSETTA/kernels/\")\n",
    "\n",
    "ftp.retrbinary('RETR mk/ROS_V111.TM', open(outdir + \"mk/ROS_V111.TM\", 'wb').write)\n",
    "\n",
    "\n",
    "# urllib.urlretrieve(metakernel, metakernelfile)\n"
   ]
  },
  {
   "cell_type": "code",
   "execution_count": 7,
   "metadata": {},
   "outputs": [],
   "source": [
    "\n",
    "with open(metakernelfile) as f:\n",
    "    lines = f.readlines()"
   ]
  },
  {
   "cell_type": "code",
   "execution_count": 8,
   "metadata": {},
   "outputs": [],
   "source": [
    "\n",
    "matches = []\n",
    "for line in lines:\n",
    "    m= re.match(\".*KERNELS/(.*\\.[A-Z]*)\", line)\n",
    "    if m is None:\n",
    "        continue\n",
    "    \n",
    "    else:\n",
    "        fname = m.group(1)\n",
    "#         print (fname)\n",
    "        matches.append(fname)\n",
    "    \n",
    "    \n"
   ]
  },
  {
   "cell_type": "code",
   "execution_count": null,
   "metadata": {},
   "outputs": [],
   "source": []
  },
  {
   "cell_type": "code",
   "execution_count": 9,
   "metadata": {},
   "outputs": [
    {
     "name": "stdout",
     "output_type": "stream",
     "text": [
      "lsk/NAIF0011.TLS\n",
      "making /lsk\n",
      "sclk/ROS_160929_STEP.TSC\n",
      "making /sclk\n",
      "sclk/LANDER_170904_STEP.TSC\n",
      "making /sclk\n",
      "pck/PCK00010.TPC\n",
      "making /pck\n",
      "pck/DE403_MASSES.TPC\n",
      "making /pck\n",
      "pck/former_versions/EARTH_000101_170227_161206.BPC\n",
      "making /pck\n",
      "making /pck/former_versions\n",
      "pck/ROS_LUTETIA_RSOC_V03.TPC\n",
      "making /pck\n",
      "pck/ROS_STEINS_V05.TPC\n",
      "making /pck\n",
      "pck/ROS_CG_RAD_V10.TPC\n",
      "making /pck\n",
      "fk/EARTHFIXEDITRF93.TF\n",
      "making /fk\n",
      "fk/EARTH_TOPO_050714.TF\n",
      "making /fk\n",
      "fk/ESTRACK_V01.TF\n",
      "making /fk\n",
      "fk/NEW_NORCIA_TOPO.TF\n",
      "making /fk\n",
      "fk/ROS_LUTETIA_RSOC_V03.TF\n",
      "making /fk\n",
      "fk/RSSD0002.TF\n",
      "making /fk\n",
      "fk/ROS_V31.TF\n",
      "making /fk\n",
      "ik/ROS_ALICE_V16.TI\n",
      "making /ik\n",
      "ik/ROS_CIVA_V10.TI\n",
      "making /ik\n",
      "ik/ROS_CONSERT_V11.TI\n",
      "making /ik\n",
      "ik/ROS_COSIMA_V14.TI\n",
      "making /ik\n",
      "ik/ROS_DIM_V11.TI\n",
      "making /ik\n",
      "ik/ROS_GIADA_V12.TI\n",
      "making /ik\n",
      "ik/ROS_MIDAS_V11.TI\n",
      "making /ik\n",
      "ik/ROS_MIRO_V11.TI\n",
      "making /ik\n",
      "ik/ROS_NAVCAM_V03.TI\n",
      "making /ik\n",
      "ik/ROS_OSIRIS_V15.TI\n",
      "making /ik\n",
      "ik/ROS_ROLIS_V03.TI\n",
      "making /ik\n",
      "ik/ROS_ROSINA_V12.TI\n",
      "making /ik\n",
      "ik/ROS_RPC_V19.TI\n",
      "making /ik\n",
      "ik/ROS_STR_V11.TI\n",
      "making /ik\n",
      "ik/ROS_VIRTIS_V14.TI\n",
      "making /ik\n",
      "spk/DE405.BSP\n",
      "making /spk\n",
      "spk/OUTERPLANETS_V0003.BSP\n",
      "making /spk\n",
      "spk/EARTHSTNS_ITRF93_050714.BSP\n",
      "making /spk\n",
      "spk/ESTRACK_V01.BSP\n",
      "making /spk\n",
      "spk/NEW_NORCIA.BSP\n",
      "making /spk\n",
      "spk/TEMPEL1_9P_DI_P.BSP\n",
      "making /spk\n",
      "spk/former_versions/21_LUTETIA_2004_2016.BSP\n",
      "making /spk\n",
      "making /spk/former_versions\n",
      "spk/ORHS_______________00109.BSP\n",
      "making /spk\n",
      "spk/former_versions/2867_STEINS_2004_2016.BSP\n",
      "making /spk\n",
      "making /spk/former_versions\n",
      "spk/ORHO_______________00077.BSP\n",
      "making /spk\n",
      "spk/former_versions/ORHW_______________00016.BSP\n",
      "making /spk\n",
      "making /spk/former_versions\n",
      "spk/ORHW_______________00122.BSP\n",
      "making /spk\n",
      "spk/CORB_DV_257_03___T19_00345.BSP\n",
      "making /spk\n",
      "spk/ROS_STRUCT_V5.BSP\n",
      "making /spk\n",
      "spk/LORB_ROS_SC_PRESEP_V1_0.BSP\n",
      "making /spk\n",
      "spk/LORB_SUN_J2000_SDL_V1_1.BSP\n",
      "making /spk\n",
      "spk/SPICE_PHILAE_CFF_SONC_V2_0.BSP\n",
      "making /spk\n",
      "spk/LORB_SUN_J2000_RBD_1_V1_2.BSP\n",
      "making /spk\n",
      "spk/ORHR___________T19_00122.BSP\n",
      "making /spk\n",
      "spk/RORB_DV_257_03___T19_00345.BSP\n",
      "making /spk\n"
     ]
    },
    {
     "ename": "KeyboardInterrupt",
     "evalue": "",
     "output_type": "error",
     "traceback": [
      "\u001b[0;31m---------------------------------------------------------------------------\u001b[0m",
      "\u001b[0;31mKeyboardInterrupt\u001b[0m                         Traceback (most recent call last)",
      "\u001b[0;32m<ipython-input-9-f5f608f4c5b4>\u001b[0m in \u001b[0;36m<module>\u001b[0;34m()\u001b[0m\n\u001b[1;32m     18\u001b[0m \u001b[0;34m\u001b[0m\u001b[0m\n\u001b[1;32m     19\u001b[0m \u001b[0;34m\u001b[0m\u001b[0m\n\u001b[0;32m---> 20\u001b[0;31m     \u001b[0mftp\u001b[0m\u001b[0;34m.\u001b[0m\u001b[0mretrbinary\u001b[0m\u001b[0;34m(\u001b[0m\u001b[0;34m'RETR '\u001b[0m \u001b[0;34m+\u001b[0m \u001b[0mfname\u001b[0m\u001b[0;34m,\u001b[0m \u001b[0mopen\u001b[0m\u001b[0;34m(\u001b[0m\u001b[0moutdir\u001b[0m \u001b[0;34m+\u001b[0m \u001b[0msep\u001b[0m \u001b[0;34m+\u001b[0m \u001b[0mfname\u001b[0m\u001b[0;34m,\u001b[0m \u001b[0;34m'wb'\u001b[0m\u001b[0;34m)\u001b[0m\u001b[0;34m.\u001b[0m\u001b[0mwrite\u001b[0m\u001b[0;34m)\u001b[0m\u001b[0;34m\u001b[0m\u001b[0m\n\u001b[0m\u001b[1;32m     21\u001b[0m \u001b[0;34m\u001b[0m\u001b[0m\n\u001b[1;32m     22\u001b[0m \u001b[0mftp\u001b[0m\u001b[0;34m.\u001b[0m\u001b[0mquit\u001b[0m\u001b[0;34m(\u001b[0m\u001b[0;34m)\u001b[0m\u001b[0;34m\u001b[0m\u001b[0m\n",
      "\u001b[0;32m/usr/lib/python2.7/ftplib.pyc\u001b[0m in \u001b[0;36mretrbinary\u001b[0;34m(self, cmd, callback, blocksize, rest)\u001b[0m\n\u001b[1;32m    417\u001b[0m         \u001b[0;32mtry\u001b[0m\u001b[0;34m:\u001b[0m\u001b[0;34m\u001b[0m\u001b[0m\n\u001b[1;32m    418\u001b[0m             \u001b[0;32mwhile\u001b[0m \u001b[0;36m1\u001b[0m\u001b[0;34m:\u001b[0m\u001b[0;34m\u001b[0m\u001b[0m\n\u001b[0;32m--> 419\u001b[0;31m                 \u001b[0mdata\u001b[0m \u001b[0;34m=\u001b[0m \u001b[0mconn\u001b[0m\u001b[0;34m.\u001b[0m\u001b[0mrecv\u001b[0m\u001b[0;34m(\u001b[0m\u001b[0mblocksize\u001b[0m\u001b[0;34m)\u001b[0m\u001b[0;34m\u001b[0m\u001b[0m\n\u001b[0m\u001b[1;32m    420\u001b[0m                 \u001b[0;32mif\u001b[0m \u001b[0;32mnot\u001b[0m \u001b[0mdata\u001b[0m\u001b[0;34m:\u001b[0m\u001b[0;34m\u001b[0m\u001b[0m\n\u001b[1;32m    421\u001b[0m                     \u001b[0;32mbreak\u001b[0m\u001b[0;34m\u001b[0m\u001b[0m\n",
      "\u001b[0;31mKeyboardInterrupt\u001b[0m: "
     ]
    }
   ],
   "source": [
    "                  # user anonymous, passwd anonymous@\n",
    "\n",
    "\n",
    "\n",
    "for fname in matches:\n",
    "    print fname\n",
    "    \n",
    "    dirs = fname.split(\"/\")\n",
    "    \n",
    "    updir = \"\"\n",
    "    for dir in dirs[:-1]:\n",
    "        updir = updir + sep + dir\n",
    "        \n",
    "        print(\"making {}\".format(updir))\n",
    "        ensureDir(outdir + sep + updir)\n",
    "        \n",
    "        \n",
    "\n",
    "    \n",
    "    ftp.retrbinary('RETR ' + fname, open(outdir + sep + fname, 'wb').write)\n",
    "\n",
    "ftp.quit()\n"
   ]
  },
  {
   "cell_type": "code",
   "execution_count": null,
   "metadata": {
    "collapsed": true
   },
   "outputs": [],
   "source": []
  }
 ],
 "metadata": {
  "kernelspec": {
   "display_name": "Python 2",
   "language": "python2",
   "name": "python2"
  },
  "language_info": {
   "codemirror_mode": {
    "name": "ipython",
    "version": 2
   },
   "file_extension": ".py",
   "mimetype": "text/x-python",
   "name": "python",
   "nbconvert_exporter": "python",
   "pygments_lexer": "ipython2",
   "version": "2.7.14"
  }
 },
 "nbformat": 4,
 "nbformat_minor": 2
}
